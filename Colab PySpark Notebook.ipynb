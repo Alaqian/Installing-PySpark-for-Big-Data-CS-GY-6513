{
 "cells": [
  {
   "cell_type": "code",
   "execution_count": null,
   "id": "e1f279ed-88d5-4da4-a381-7df1476301b2",
   "metadata": {},
   "outputs": [],
   "source": [
    "\"\"\"\n",
    "Install Dependencies:\n",
    "\n",
    "1. Java 8\n",
    "2. Apache Spark with hadoop and\n",
    "3. Findspark (used to locate the spark in the system)\n",
    "\"\"\"\n",
    "!apt-get install openjdk-8-jdk-headless -qq > /dev/null\n",
    "!wget -q http://archive.apache.org/dist/spark/spark-3.1.1/spark-3.1.1-bin-hadoop3.2.tgz\n",
    "!tar xf spark-3.1.1-bin-hadoop3.2.tgz\n",
    "!pip install -q findspark\n",
    "\n",
    "\"\"\"\n",
    "Set Environment Variables:\n",
    "\"\"\"\n",
    "import os\n",
    "os.environ[\"JAVA_HOME\"] = \"/usr/lib/jvm/java-8-openjdk-amd64\"\n",
    "os.environ[\"SPARK_HOME\"] = \"/content/spark-3.1.1-bin-hadoop3.2\"\n",
    "\n",
    "\"\"\"\n",
    "Start a Spark Session\n",
    "\"\"\"\n",
    "import findspark\n",
    "findspark.init()\n",
    "from pyspark.sql import SparkSession\n",
    "spark = SparkSession.builder.master(\"local[*]\").getOrCreate()\n",
    "spark.conf.set(\"spark.sql.repl.eagerEval.enabled\", True) # Property used to format output tables better\n",
    "spark"
   ]
  }
 ],
 "metadata": {
  "kernelspec": {
   "display_name": "Python 3 (ipykernel)",
   "language": "python",
   "name": "python3"
  },
  "language_info": {
   "codemirror_mode": {
    "name": "ipython",
    "version": 3
   },
   "file_extension": ".py",
   "mimetype": "text/x-python",
   "name": "python",
   "nbconvert_exporter": "python",
   "pygments_lexer": "ipython3",
   "version": "3.8.16"
  }
 },
 "nbformat": 4,
 "nbformat_minor": 5
}
